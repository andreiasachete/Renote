{
  "cells": [
    {
      "cell_type": "code",
      "execution_count": null,
      "metadata": {
        "id": "qk_2Wa_8Zllm"
      },
      "outputs": [],
      "source": [
        "# Bibliotecas\n",
        "\n",
        "import requests\n",
        "import itertools\n",
        "from bs4 import BeautifulSoup\n",
        "import csv"
      ]
    },
    {
      "cell_type": "code",
      "execution_count": null,
      "metadata": {
        "id": "va3o_Ym0ZuVo"
      },
      "outputs": [],
      "source": [
        "# Entrada Renote\n",
        "\n",
        "url_list = [\n",
        "    'https://seer.ufrgs.br/index.php/renote/issue/view/5020',\n",
        "#    'https://seer.ufrgs.br/index.php/renote/issue/view/4857',\n",
        "#    'https://seer.ufrgs.br/index.php/renote/issue/view/4767',\n",
        "#    'https://seer.ufrgs.br/index.php/renote/issue/view/4659',\n",
        "#    'https://seer.ufrgs.br/index.php/renote/issue/view/4493',\n",
        "#    'https://seer.ufrgs.br/index.php/renote/issue/view/4430',\n",
        "#    'https://seer.ufrgs.br/index.php/renote/issue/view/4216',\n",
        "#    'https://seer.ufrgs.br/index.php/renote/issue/view/4004',\n",
        "#    'https://seer.ufrgs.br/index.php/renote/issue/view/3727',\n",
        "#    'https://seer.ufrgs.br/index.php/renote/issue/view/3726',\n",
        "#    'https://seer.ufrgs.br/index.php/renote/issue/view/3725',\n",
        "#    'https://seer.ufrgs.br/index.php/renote/issue/view/3640',\n",
        "#    'https://seer.ufrgs.br/index.php/renote/issue/view/3542',\n",
        "#    'https://seer.ufrgs.br/index.php/renote/issue/view/3389',\n",
        "#    'https://seer.ufrgs.br/index.php/renote/issue/view/3144',\n",
        "#    'https://seer.ufrgs.br/index.php/renote/issue/view/2871',\n",
        "#    'https://seer.ufrgs.br/index.php/renote/issue/view/2864',\n",
        "#    'https://seer.ufrgs.br/index.php/renote/issue/view/2737',\n",
        "#    'https://seer.ufrgs.br/index.php/renote/issue/view/2618',\n",
        "#    'https://seer.ufrgs.br/index.php/renote/issue/view/2510',\n",
        "#    'https://seer.ufrgs.br/index.php/renote/issue/view/2354',\n",
        "#    'https://seer.ufrgs.br/index.php/renote/issue/view/2266',\n",
        "#    'https://seer.ufrgs.br/index.php/renote/issue/view/2240',\n",
        "#    'https://seer.ufrgs.br/index.php/renote/issue/view/2162',\n",
        "#    'https://seer.ufrgs.br/index.php/renote/issue/view/1949',\n",
        "#    'https://seer.ufrgs.br/index.php/renote/issue/view/1788',\n",
        "#    'https://seer.ufrgs.br/index.php/renote/issue/view/1718',\n",
        "#    'https://seer.ufrgs.br/index.php/renote/issue/view/1543',\n",
        "#    'https://seer.ufrgs.br/index.php/renote/issue/view/1524',\n",
        "#    'https://seer.ufrgs.br/index.php/renote/issue/view/1457',\n",
        "#    'https://seer.ufrgs.br/index.php/renote/issue/view/1196',\n",
        "#    'https://seer.ufrgs.br/index.php/renote/issue/view/1023',\n",
        "#    'https://seer.ufrgs.br/index.php/renote/issue/view/960',\n",
        "#    'https://seer.ufrgs.br/index.php/renote/issue/view/952',\n",
        "#    'https://seer.ufrgs.br/index.php/renote/issue/view/951',\n",
        "#    'https://seer.ufrgs.br/index.php/renote/issue/view/950',\n",
        "#    'https://seer.ufrgs.br/index.php/renote/issue/view/948',\n",
        "#    'https://seer.ufrgs.br/index.php/renote/issue/view/949',\n",
        "#    'https://seer.ufrgs.br/index.php/renote/issue/view/947',\n",
        "#    'https://seer.ufrgs.br/index.php/renote/issue/view/946',\n",
        "#    'https://seer.ufrgs.br/index.php/renote/issue/view/945',\n",
        "#    'https://seer.ufrgs.br/index.php/renote/issue/view/944',\n",
        "#    'https://seer.ufrgs.br/index.php/renote/issue/view/943',\n",
        "#    'https://seer.ufrgs.br/index.php/renote/issue/view/932',\n",
        "#    'https://seer.ufrgs.br/index.php/renote/issue/view/931',\n",
        "#    'https://seer.ufrgs.br/index.php/renote/issue/view/930',\n",
        "#    'https://seer.ufrgs.br/index.php/renote/issue/view/747',\n",
        "#    'https://seer.ufrgs.br/index.php/renote/issue/view/744'\n",
        "]"
      ]
    },
    {
      "cell_type": "code",
      "execution_count": null,
      "metadata": {
        "id": "6fL0oFZsbxTb"
      },
      "outputs": [],
      "source": [
        "# Lista autores por artigo\n",
        "\n",
        "dados_das_issues = []\n",
        "for link in url_list:\n",
        "    response = requests.get(link)\n",
        "    soup = BeautifulSoup(response.content, 'html.parser')\n",
        "\n",
        "    autores_de_cada_artigo_da_issue_atual = []\n",
        "\n",
        "    for artigo_da_issue_atual in soup.find_all('div', class_='authors'):\n",
        "        autores_artigo = artigo_da_issue_atual.get_text().replace('\\t', '').replace('\\n', '')\n",
        "        if len(autores_artigo) > 1:\n",
        "            autores_artigo = autores_artigo.split(\", \")\n",
        "            autores_de_cada_artigo_da_issue_atual.append(autores_artigo)\n",
        "\n",
        "    dados_das_issues.append(\n",
        "      {\n",
        "          \"link\": link,\n",
        "          \"autores_de_cada_artigo\": autores_de_cada_artigo_da_issue_atual,\n",
        "      }\n",
        "  )\n",
        "\n",
        "for issue in dados_das_issues:\n",
        "    print(\"\\n\")\n",
        "    print(f\"----> Link Issue: {issue['link']}\")\n",
        "    print(f\"Artigos:\")\n",
        "    for id_artigo, autores_artigo in enumerate(issue[\"autores_de_cada_artigo\"], 1):\n",
        "        print(f\"\\t[Artigo {id_artigo}] Autores: {autores_artigo}\")"
      ]
    },
    {
      "cell_type": "code",
      "execution_count": null,
      "metadata": {
        "id": "wFukJ5pvfrcJ"
      },
      "outputs": [],
      "source": [
        "# Cria pares de autoria\n",
        "\n",
        "pares_de_autores = []\n",
        "for issue in dados_das_issues:\n",
        "    for autores_artigo in issue[\"autores_de_cada_artigo\"]:\n",
        "        pares_artigo_atual = list(itertools.combinations(autores_artigo, 2))\n",
        "        for par_artigo_atual in pares_artigo_atual:\n",
        "            if set(par_artigo_atual) not in pares_de_autores:\n",
        "                pares_de_autores.append(set(par_artigo_atual))\n",
        "\n",
        "pares_de_autores = sorted([list(par_de_autores) for par_de_autores in pares_de_autores])\n",
        "for par_de_autores in pares_de_autores:\n",
        "    print(par_de_autores)\n",
        "\n",
        "with open(\"autores.csv\", mode='w', newline='', encoding='utf-8') as arquivo:\n",
        "    escritor_csv = csv.writer(arquivo)\n",
        "    escritor_csv.writerow([\"Autor 1\", \"Autor 2\"])\n",
        "    for par_de_autores in pares_de_autores:\n",
        "        escritor_csv.writerow(par_de_autores)"
      ]
    }
  ],
  "metadata": {
    "colab": {
      "provenance": []
    },
    "kernelspec": {
      "display_name": "Python 3",
      "name": "python3"
    },
    "language_info": {
      "name": "python"
    }
  },
  "nbformat": 4,
  "nbformat_minor": 0
}
